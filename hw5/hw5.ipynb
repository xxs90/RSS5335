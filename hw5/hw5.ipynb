{
  "nbformat": 4,
  "nbformat_minor": 0,
  "metadata": {
    "colab": {
      "provenance": []
    },
    "kernelspec": {
      "name": "python3",
      "display_name": "Python 3"
    },
    "language_info": {
      "name": "python"
    },
    "gpuClass": "standard",
    "accelerator": "GPU"
  },
  "cells": [
    {
      "cell_type": "markdown",
      "source": [
        "#**HW5: Image Classification & Detection**\n",
        "*CS4610/5335: Robotic Science and Systems (Spring 2023) | Robert Platt | Northeastern University*\n",
        "\n",
        "--------------------------\n",
        "\n",
        "Please remember the following policies:\n",
        "- Submissions should be made electronically via the Canvas. For this assignment, you should submit both a *.ipynb and *.pdf version of your completed Colab notebook as a single zipped file.\n",
        "- You are welcome to discuss the programming questions (but not the written questions) with other students in the class. However, you must understand and write all code yourself. Also, you must list all students (if any)\n",
        "with whom you discussed your solutions to the programming questions.\n",
        "- Please provide comments in your code to make it understandable to the graders. "
      ],
      "metadata": {
        "id": "7V4sgoh6Talt"
      }
    },
    {
      "cell_type": "markdown",
      "source": [
        "Collaborators: [*Optional*]"
      ],
      "metadata": {
        "id": "nNGhk3TYU_7d"
      }
    },
    {
      "cell_type": "code",
      "source": [
        "%%capture\n",
        "! pip install pytorch-lightning"
      ],
      "metadata": {
        "id": "EIaz8yYPsPpb"
      },
      "execution_count": 1,
      "outputs": []
    },
    {
      "cell_type": "code",
      "source": [
        "## UPLOAD utils.py: click \"Choose Files\" then click on \"utils.py\"\n",
        "from google.colab import files\n",
        "uploaded = files.upload()\n",
        "\n",
        "try:\n",
        "  import utils\n",
        "except ModuleNotFoundError:\n",
        "  raise ModuleNotFoundError(\n",
        "    'ERROR: you did not upload \"utils.py\" correctly, run the cell again.'\n",
        "  )"
      ],
      "metadata": {
        "id": "G4ofyJ5kCmUC",
        "colab": {
          "base_uri": "https://localhost:8080/",
          "height": 73
        },
        "outputId": "3487d707-bd8f-47b9-f432-1d9eaa9f4a0d"
      },
      "execution_count": 2,
      "outputs": [
        {
          "output_type": "display_data",
          "data": {
            "text/plain": [
              "<IPython.core.display.HTML object>"
            ],
            "text/html": [
              "\n",
              "     <input type=\"file\" id=\"files-b60824fd-30bf-4909-a4c9-785a80364a38\" name=\"files[]\" multiple disabled\n",
              "        style=\"border:none\" />\n",
              "     <output id=\"result-b60824fd-30bf-4909-a4c9-785a80364a38\">\n",
              "      Upload widget is only available when the cell has been executed in the\n",
              "      current browser session. Please rerun this cell to enable.\n",
              "      </output>\n",
              "      <script>// Copyright 2017 Google LLC\n",
              "//\n",
              "// Licensed under the Apache License, Version 2.0 (the \"License\");\n",
              "// you may not use this file except in compliance with the License.\n",
              "// You may obtain a copy of the License at\n",
              "//\n",
              "//      http://www.apache.org/licenses/LICENSE-2.0\n",
              "//\n",
              "// Unless required by applicable law or agreed to in writing, software\n",
              "// distributed under the License is distributed on an \"AS IS\" BASIS,\n",
              "// WITHOUT WARRANTIES OR CONDITIONS OF ANY KIND, either express or implied.\n",
              "// See the License for the specific language governing permissions and\n",
              "// limitations under the License.\n",
              "\n",
              "/**\n",
              " * @fileoverview Helpers for google.colab Python module.\n",
              " */\n",
              "(function(scope) {\n",
              "function span(text, styleAttributes = {}) {\n",
              "  const element = document.createElement('span');\n",
              "  element.textContent = text;\n",
              "  for (const key of Object.keys(styleAttributes)) {\n",
              "    element.style[key] = styleAttributes[key];\n",
              "  }\n",
              "  return element;\n",
              "}\n",
              "\n",
              "// Max number of bytes which will be uploaded at a time.\n",
              "const MAX_PAYLOAD_SIZE = 100 * 1024;\n",
              "\n",
              "function _uploadFiles(inputId, outputId) {\n",
              "  const steps = uploadFilesStep(inputId, outputId);\n",
              "  const outputElement = document.getElementById(outputId);\n",
              "  // Cache steps on the outputElement to make it available for the next call\n",
              "  // to uploadFilesContinue from Python.\n",
              "  outputElement.steps = steps;\n",
              "\n",
              "  return _uploadFilesContinue(outputId);\n",
              "}\n",
              "\n",
              "// This is roughly an async generator (not supported in the browser yet),\n",
              "// where there are multiple asynchronous steps and the Python side is going\n",
              "// to poll for completion of each step.\n",
              "// This uses a Promise to block the python side on completion of each step,\n",
              "// then passes the result of the previous step as the input to the next step.\n",
              "function _uploadFilesContinue(outputId) {\n",
              "  const outputElement = document.getElementById(outputId);\n",
              "  const steps = outputElement.steps;\n",
              "\n",
              "  const next = steps.next(outputElement.lastPromiseValue);\n",
              "  return Promise.resolve(next.value.promise).then((value) => {\n",
              "    // Cache the last promise value to make it available to the next\n",
              "    // step of the generator.\n",
              "    outputElement.lastPromiseValue = value;\n",
              "    return next.value.response;\n",
              "  });\n",
              "}\n",
              "\n",
              "/**\n",
              " * Generator function which is called between each async step of the upload\n",
              " * process.\n",
              " * @param {string} inputId Element ID of the input file picker element.\n",
              " * @param {string} outputId Element ID of the output display.\n",
              " * @return {!Iterable<!Object>} Iterable of next steps.\n",
              " */\n",
              "function* uploadFilesStep(inputId, outputId) {\n",
              "  const inputElement = document.getElementById(inputId);\n",
              "  inputElement.disabled = false;\n",
              "\n",
              "  const outputElement = document.getElementById(outputId);\n",
              "  outputElement.innerHTML = '';\n",
              "\n",
              "  const pickedPromise = new Promise((resolve) => {\n",
              "    inputElement.addEventListener('change', (e) => {\n",
              "      resolve(e.target.files);\n",
              "    });\n",
              "  });\n",
              "\n",
              "  const cancel = document.createElement('button');\n",
              "  inputElement.parentElement.appendChild(cancel);\n",
              "  cancel.textContent = 'Cancel upload';\n",
              "  const cancelPromise = new Promise((resolve) => {\n",
              "    cancel.onclick = () => {\n",
              "      resolve(null);\n",
              "    };\n",
              "  });\n",
              "\n",
              "  // Wait for the user to pick the files.\n",
              "  const files = yield {\n",
              "    promise: Promise.race([pickedPromise, cancelPromise]),\n",
              "    response: {\n",
              "      action: 'starting',\n",
              "    }\n",
              "  };\n",
              "\n",
              "  cancel.remove();\n",
              "\n",
              "  // Disable the input element since further picks are not allowed.\n",
              "  inputElement.disabled = true;\n",
              "\n",
              "  if (!files) {\n",
              "    return {\n",
              "      response: {\n",
              "        action: 'complete',\n",
              "      }\n",
              "    };\n",
              "  }\n",
              "\n",
              "  for (const file of files) {\n",
              "    const li = document.createElement('li');\n",
              "    li.append(span(file.name, {fontWeight: 'bold'}));\n",
              "    li.append(span(\n",
              "        `(${file.type || 'n/a'}) - ${file.size} bytes, ` +\n",
              "        `last modified: ${\n",
              "            file.lastModifiedDate ? file.lastModifiedDate.toLocaleDateString() :\n",
              "                                    'n/a'} - `));\n",
              "    const percent = span('0% done');\n",
              "    li.appendChild(percent);\n",
              "\n",
              "    outputElement.appendChild(li);\n",
              "\n",
              "    const fileDataPromise = new Promise((resolve) => {\n",
              "      const reader = new FileReader();\n",
              "      reader.onload = (e) => {\n",
              "        resolve(e.target.result);\n",
              "      };\n",
              "      reader.readAsArrayBuffer(file);\n",
              "    });\n",
              "    // Wait for the data to be ready.\n",
              "    let fileData = yield {\n",
              "      promise: fileDataPromise,\n",
              "      response: {\n",
              "        action: 'continue',\n",
              "      }\n",
              "    };\n",
              "\n",
              "    // Use a chunked sending to avoid message size limits. See b/62115660.\n",
              "    let position = 0;\n",
              "    do {\n",
              "      const length = Math.min(fileData.byteLength - position, MAX_PAYLOAD_SIZE);\n",
              "      const chunk = new Uint8Array(fileData, position, length);\n",
              "      position += length;\n",
              "\n",
              "      const base64 = btoa(String.fromCharCode.apply(null, chunk));\n",
              "      yield {\n",
              "        response: {\n",
              "          action: 'append',\n",
              "          file: file.name,\n",
              "          data: base64,\n",
              "        },\n",
              "      };\n",
              "\n",
              "      let percentDone = fileData.byteLength === 0 ?\n",
              "          100 :\n",
              "          Math.round((position / fileData.byteLength) * 100);\n",
              "      percent.textContent = `${percentDone}% done`;\n",
              "\n",
              "    } while (position < fileData.byteLength);\n",
              "  }\n",
              "\n",
              "  // All done.\n",
              "  yield {\n",
              "    response: {\n",
              "      action: 'complete',\n",
              "    }\n",
              "  };\n",
              "}\n",
              "\n",
              "scope.google = scope.google || {};\n",
              "scope.google.colab = scope.google.colab || {};\n",
              "scope.google.colab._files = {\n",
              "  _uploadFiles,\n",
              "  _uploadFilesContinue,\n",
              "};\n",
              "})(self);\n",
              "</script> "
            ]
          },
          "metadata": {}
        },
        {
          "output_type": "stream",
          "name": "stdout",
          "text": [
            "Saving utils.py to utils.py\n"
          ]
        }
      ]
    },
    {
      "cell_type": "code",
      "source": [
        "import torch\n",
        "from torch import Tensor\n",
        "import torch.nn as nn\n",
        "import torchvision\n",
        "import pytorch_lightning as pl\n",
        "import matplotlib.pyplot as plt"
      ],
      "metadata": {
        "id": "Xb33PEa5KZwb"
      },
      "execution_count": 3,
      "outputs": []
    },
    {
      "cell_type": "markdown",
      "source": [
        "# Q1a. Implementing AlexNet\n",
        "In this question, you will implement AlexNet in PyTorch using the model achitecture diagram provided below. \n",
        "For an introduction to creating neural networks with PyTorch, see this [guide](https://pytorch.org/tutorials/beginner/basics/buildmodel_tutorial.html#model-layers).  If you want to look up specific pytorch modules, try searching the [docs](https://pytorch.org/docs/stable/index.html).\n",
        "\n",
        "\n",
        "![alexnet2.png](data:image/png;base64,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)"
      ],
      "metadata": {
        "id": "i8ueR977V3jS"
      }
    },
    {
      "cell_type": "code",
      "source": [
        "class AlexNet(nn.Module):\n",
        "  def __init__(self):\n",
        "    \"\"\"\n",
        "    You need to add ReLU activations after every internal convolution or linear layer.\n",
        "    Do not add BatchNorm layers\n",
        "    \"\"\"\n",
        "    super().__init__()\n",
        "\n",
        "    # define your layers here, the first operation is done for you\n",
        "    # you may use nn.Sequential if you wish\n",
        "    self.conv1 = nn.Conv2d(in_channels=3, out_channels=96, kernel_size=11, stride=4)\n",
        "    self.relu = nn.ReLU(True)\n",
        "    self.maxpool1 = nn.MaxPool2d(kernel_size=3, stride=2)\n",
        "    # ...\n",
        "    \n",
        "  def forward(self, x): \n",
        "    \"\"\"Performs forward pass\n",
        "\n",
        "    Arguments\n",
        "    ---------\n",
        "    x: Tensor\n",
        "      image tensor of shape (B, 3, 227, 227)\n",
        "    \n",
        "    Returns\n",
        "    -------\n",
        "    Tensor\n",
        "      logits (ranging from 0 to 1) tensor with shape (B, 1000)\n",
        "    \"\"\"\n",
        "    pass\n",
        "\n",
        "\n",
        "# To help you debug, you may want to print the shapes of tensors\n",
        "# produced after each layer in the network\n",
        "model = AlexNet()\n",
        "img = torch.randn((1, 3, 227, 227), dtype=torch.float32)\n",
        "model(img)\n",
        "\n",
        "utils.check_q1a(AlexNet())"
      ],
      "metadata": {
        "id": "dw0PSYXPWljr"
      },
      "execution_count": null,
      "outputs": []
    },
    {
      "cell_type": "markdown",
      "source": [
        "# Q1b. Customizing AlexNet for Smaller Images\n",
        "The original AlexNet was designed for 227x227 images.  Modify the network to handle 37x37 images while keeping the model parameters constant.  In other words, do not change the channel dimensions or kernel sizes.  Instead modify the convolution padding or stride or remove maxpool operations.  \n"
      ],
      "metadata": {
        "id": "N41CGvaHDlUu"
      }
    },
    {
      "cell_type": "code",
      "source": [
        "class SmallAlexNet(nn.Module):\n",
        "  def __init__(self):\n",
        "    '''\n",
        "    You need to add ReLU activations after every internal convolution or linear layer.\n",
        "    Do not add BatchNorm layers\n",
        "\n",
        "    Hint\n",
        "    ----\n",
        "    You want the feature map produced by the final conv layer to be 6x6 \n",
        "    '''\n",
        "    super().__init__()\n",
        "    pass\n",
        "    \n",
        "  def forward(self, x): \n",
        "    \"\"\"Performs forward pass\n",
        "\n",
        "    Arguments\n",
        "    ---------\n",
        "    x: Tensor\n",
        "      image tensor of shape (B, 3, 37, 37)\n",
        "    \n",
        "    Returns\n",
        "    -------\n",
        "    Tensor\n",
        "      logits (ranging from 0 to 1) tensor with shape (B, 1000)\n",
        "    \"\"\"\n",
        "    pass\n",
        "\n",
        "utils.check_q1b(SmallAlexNet())"
      ],
      "metadata": {
        "id": "FeJby6cK8yse"
      },
      "execution_count": null,
      "outputs": []
    },
    {
      "cell_type": "markdown",
      "source": [
        "# Q2. Implementing Basic Block\n",
        "One of the most common network architectures for computer vision is the Residual Network (ResNet), first introduced by [He et al. (2015)](https://arxiv.org/abs/1512.03385).  ResNets are constructed by stacking many residual blocks in a row.  In this problem, you will implement the BasicBlock, which is used in the ResNet18 and ResNet34 networks. "
      ],
      "metadata": {
        "id": "_-wH2bnlpuk9"
      }
    },
    {
      "cell_type": "code",
      "source": [
        "class BasicBlock(nn.Module):\n",
        "  def __init__(self, c_in: int, c_out: int, stride):\n",
        "    \"\"\"\n",
        "    x -> conv3x3(c_in, c_out, stride) -> bn -> relu -> conv3x3(c_out, c_out) -> bn -> + -> relu -> out\n",
        "    |                                                                                 ^\n",
        "    '------------------> conv1x1(c_in, c_out, stride) -> bn --------------------------'\n",
        "    \"\"\"\n",
        "    pass\n",
        "\n",
        "  def forward(self, x: Tensor) -> Tensor:\n",
        "    pass"
      ],
      "metadata": {
        "id": "SGronSVwYEYG"
      },
      "execution_count": null,
      "outputs": []
    },
    {
      "cell_type": "markdown",
      "source": [
        "Why are residual connections beneficial when designing deep networks?\n",
        "\n",
        "*\\[answer here\\]*\n",
        "\n",
        "Why is there a conv1x1 layer in the residual pathway? What purpose does it serve?  Hint: see what happens when it is removed.\n",
        "\n",
        "*\\[answer here\\]*"
      ],
      "metadata": {
        "id": "0R-50DTWTNW9"
      }
    },
    {
      "cell_type": "markdown",
      "source": [
        "# Q3. Fine Tuning on Smaller Dataset\n",
        "You are given [MobileNetV2](https://arxiv.org/abs/1801.04381) pretrained on ImageNet and need to modify it so that it can train on a smaller dataset of [flowers](https://www.robots.ox.ac.uk/~vgg/data/flowers/102/).  To do this, you need to switch the network head to a linear layer with the proper output dimension, in this case 102 classes.  Then you need to configure the optimizer\n",
        "to apply gradient descent on the head."
      ],
      "metadata": {
        "id": "Oon_6Ar5qr9P"
      }
    },
    {
      "cell_type": "code",
      "source": [
        "class MobileNetV2_finetune(pl.LightningModule):\n",
        "  def __init__(self):\n",
        "    super().__init__()\n",
        "    pretrained_model = torchvision.models.mobilenet_v2(\n",
        "        weights=torchvision.models.MobileNet_V2_Weights\n",
        "    )\n",
        "    # MODIFY MODEL HEAD \n",
        "    pass\n",
        "\n",
        "  def forward(self, x):\n",
        "    \"\"\"Performs forward pass\n",
        "\n",
        "    Arguments\n",
        "    ---------\n",
        "    x: Tensor\n",
        "      image tensor of shape (B, 3, 128, 128)\n",
        "    \n",
        "    Returns\n",
        "    -------\n",
        "    Tensor\n",
        "      logits (ranging from 0 to 1) tensor with shape (B, 102)\n",
        "    \"\"\"\n",
        "    # MAKE SURE TO PERFORM SOFTMAX on output\n",
        "    pass\n",
        "\n",
        "  def configure_optimizers(self):\n",
        "    # FIX THIS SO IT ONLY OPTIMIZES CERTAIN PARAMETERS\n",
        "    trainable_params = self.parameters()\n",
        "    optimizer = torch.optim.Adam(trainable_params, lr=1e-3)\n",
        "    return optimizer\n",
        "    \n",
        "  def training_step(self, batch, batch_idx):\n",
        "    x, y = batch\n",
        "    y_pred = self(x)\n",
        "    loss = nn.functional.nll_loss(y_pred, y)\n",
        "    acc = (torch.argmax(y_pred, 1) == y).float().mean()\n",
        "    self.log(\"train_acc\", acc, prog_bar=True)\n",
        "    return loss\n",
        "\n",
        "  def validation_step(self, batch, batch_idx):\n",
        "    x, y = batch\n",
        "    y_pred = self(x)\n",
        "    loss = nn.functional.nll_loss(y_pred, y)\n",
        "    acc = (torch.argmax(y_pred, 1) == y).float().mean()\n",
        "    self.log(\"val_acc\", acc, prog_bar=True)\n",
        "    return loss\n",
        "\n",
        "\n",
        "model = MobileNetV2_finetune()\n",
        "pl.seed_everything(42, workers=True)\n",
        "train_dl, val_dl = utils.get_flowers_dataloaders(batch_size=512)\n",
        "trainer = pl.Trainer(max_epochs=20, accelerator='gpu')\n",
        "trainer.fit(model=model, train_dataloaders=train_dl, val_dataloaders=val_dl)\n",
        "\n",
        "# this may take about 5 min to run\n",
        "# you should achieve a validation accuracy of ~0.68 if done correctly"
      ],
      "metadata": {
        "id": "lQe9lqx-qwYE"
      },
      "execution_count": null,
      "outputs": []
    },
    {
      "cell_type": "markdown",
      "source": [
        "# Q4. Data Augmentation to Improve Generalization\n",
        "This is good but I bet we can do better.  Try out some data augmentations and see what performance you can get (see full list of supported transforms [here](https://pytorch.org/vision/0.11/transforms.html)).  For two different transformations (or compositions of transformations), explain why you believe this transformation could improve generalization and what validation accuracy you achieve (it's okay if it does not improve performance).\n",
        "\n",
        "1.   *\\[transformation 1\\]*\n",
        "2.   *\\[transformation 2\\]*\n",
        "\n",
        "\n"
      ],
      "metadata": {
        "id": "C9mbDEnsp4rt"
      }
    },
    {
      "cell_type": "code",
      "source": [
        "# if you want to visualize dataset to think about useful transforms\n",
        "_, val_dl = utils.get_flowers_dataloaders(batch_size=15)\n",
        "imgs, _ = next(iter(val_dl))\n",
        "plt.figure()\n",
        "grid_img = torchvision.utils.make_grid(imgs, nrow=5, normalize=True).permute((1, 2, 0))\n",
        "plt.imshow(grid_img)\n",
        "plt.axis('off')\n",
        "plt.show()"
      ],
      "metadata": {
        "id": "TvXnoIE3_3aB"
      },
      "execution_count": null,
      "outputs": []
    },
    {
      "cell_type": "code",
      "source": [
        "# try your first transform here\n",
        "TRAIN_TFM = ###\n",
        "\n",
        "model = MobileNetV2_finetune()\n",
        "pl.seed_everything(42, workers=True)\n",
        "train_dl, val_dl = utils.get_flowers_dataloaders(batch_size=512, train_tfm=TRAIN_TFM)\n",
        "trainer = pl.Trainer(max_epochs=20, accelerator='gpu')\n",
        "trainer.fit(model=model, train_dataloaders=train_dl, val_dataloaders=val_dl)"
      ],
      "metadata": {
        "id": "aD5QI_nwgH04"
      },
      "execution_count": null,
      "outputs": []
    },
    {
      "cell_type": "code",
      "source": [
        "# try your second transform here\n",
        "TRAIN_TFM = ###\n",
        "\n",
        "model = MobileNetV2_finetune()\n",
        "pl.seed_everything(42, workers=True)\n",
        "train_dl, val_dl = utils.get_flowers_dataloaders(batch_size=512, train_tfm=TRAIN_TFM)\n",
        "trainer = pl.Trainer(max_epochs=20, accelerator='gpu')\n",
        "trainer.fit(model=model, train_dataloaders=train_dl, val_dataloaders=val_dl)"
      ],
      "metadata": {
        "id": "B5iLa8vO2E_G"
      },
      "execution_count": null,
      "outputs": []
    },
    {
      "cell_type": "markdown",
      "source": [
        "# Q5. Segmentation with UNet-style Architecture\n",
        "Implement a UNet-style network as specified in the diagram below.  Place a BatchNorm and ReLU after every conv or convtranspose layer.\n",
        "![unet.png](data:image/png;base64,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)"
      ],
      "metadata": {
        "id": "ClJm4c9gqfN9"
      }
    },
    {
      "cell_type": "code",
      "source": [
        "class UNet(utils.SegmentationModule):\n",
        "  def __init__(self):\n",
        "    super().__init__()\n",
        "\n",
        "    # IMPLEMENT LAYERS HERE\n",
        "    pass\n",
        "    \n",
        "  def forward(self, x):\n",
        "    '''\n",
        "    Arguments\n",
        "    ---------\n",
        "    x : Tensor\n",
        "      image tensor of shape (B, 3, 128, 128)\n",
        "\n",
        "    Returns\n",
        "    -------\n",
        "    Tensor\n",
        "      image tensor of shape (B, 1, 128, 128) where every pixel is within (0,1)\n",
        "      and describes the probability that the pixel is in the foreground\n",
        "    '''\n",
        "    pass\n",
        "\n",
        "\n",
        "# run this cell to debug the model using a dummy input\n",
        "model = UNet()\n",
        "dummy_input = torch.randn((30, 3, 128, 128), dtype=torch.float32)\n",
        "output = model(dummy_input)\n",
        "\n",
        "# MAKE SURE OUTPUT IMAGE HAS SAME HEIGHT AND WIDTH AS INPUT\n",
        "assert output.shape[2:] == dummy_input.shape[2:]\n",
        "\n",
        "# MAKE SURE THE OUTPUT IMAGE PIXELS VARY FROM 0 to 1\n",
        "assert output.min().item() > 0 and output.max().item() < 1"
      ],
      "metadata": {
        "id": "4GUrDwDfg9KK"
      },
      "execution_count": null,
      "outputs": []
    },
    {
      "cell_type": "code",
      "source": [
        "# Train model once you have debugged the forward pass\n",
        "train_dl, val_dl = utils.get_voc_dataloaders(batch_size=256)\n",
        "\n",
        "model = UNet()\n",
        "pl.seed_everything(42, workers=True)\n",
        "trainer = pl.Trainer(max_epochs=10, accelerator='gpu',\n",
        "                     logger=pl.loggers.TensorBoardLogger('./voc'),\n",
        "                     log_every_n_steps=1)\n",
        "                      \n",
        "\n",
        "# this will take about 8 minutes\n",
        "trainer.fit(model=model, train_dataloaders=train_dl, val_dataloaders=val_dl)"
      ],
      "metadata": {
        "id": "o4MjEkbs1mNe"
      },
      "execution_count": null,
      "outputs": []
    },
    {
      "cell_type": "markdown",
      "source": [
        "Why is it useful to perform downsampling then upsampling within the network? Think about how information is processed within the network.\n",
        "\n",
        "*\\[answer here\\]*\n",
        "\n",
        "Run the code cell below to view TensorBoard.  Look at the plots of the train and validation losses.  Is model overfitting here?  Explain why you think it is or is not.\n",
        "*\\[answer here\\]*"
      ],
      "metadata": {
        "id": "k1PHaDdPFzY9"
      }
    },
    {
      "cell_type": "code",
      "source": [
        "%load_ext tensorboard\n",
        "%tensorboard --logdir voc/lightning_logs\n",
        "# it make take a few seconds to load"
      ],
      "metadata": {
        "id": "ph1n0TjAdPWT"
      },
      "execution_count": null,
      "outputs": []
    }
  ]
}